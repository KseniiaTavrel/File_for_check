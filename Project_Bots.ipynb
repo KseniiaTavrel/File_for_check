{
 "cells": [
  {
   "cell_type": "markdown",
   "metadata": {},
   "source": [
    "# PROJECT. Определение количества ботов на сайте\n",
    "## ЗАДАЧИ:\n",
    "- Оценить количество ботов, которые заходят на сайт, и их долю от всего трафика.\n",
    "- Определить, с каких источников и в какое время суток чаще всего заходят роботы."
   ]
  },
  {
   "cell_type": "code",
   "execution_count": 1,
   "metadata": {},
   "outputs": [],
   "source": [
    "# Импортируем необходимые библиотеки\n",
    "import pandas as pd\n",
    "import json \n",
    "import requests\n",
    "from pprint import pprint"
   ]
  },
  {
   "cell_type": "markdown",
   "metadata": {},
   "source": [
    "Для выгрузки отчёта нам необходимы следующие данные:\n",
    " - источники трафика по модели атрибуции «Последний значимый источник»;\n",
    " - суммарное количество визитов;\n",
    " - доля ботов в  метрике ym:s:robotPercentage;\n",
    " \n",
    " Данные сгруппируем по часам визита и по параметру ym:s:isRobot, который определяет, робот или человек заходил на сайт.\n",
    "Зададим лимит в 100000 строк. Период анализа: с 1 сентября 2020 года по 30 сентября 2020 года."
   ]
  },
  {
   "cell_type": "markdown",
   "metadata": {},
   "source": [
    "Для начала посмотрим на общее количество ботов и их долю от всего трафика"
   ]
  },
  {
   "cell_type": "code",
   "execution_count": 2,
   "metadata": {},
   "outputs": [],
   "source": [
    "# Задаем параметры, токен\n",
    "params1 = {'metrics': 'ym:s:visits',\n",
    "          'dimensions': 'ym:s:isRobot,ym:s:lastsignTrafficSource',  \n",
    "          'date1': '2020-09-01',  \n",
    "          'date2': '2020-09-30',     \n",
    "          'ids': 30177909,\n",
    "          'accuracy':'full',\n",
    "          'limit':100000}\n",
    "token = 'AQAAAABbwb7rAAeW_xVRvRo9EkQ0nKMRbM5fvHg'\n",
    "headers = {'Authorization': 'OAuth ' + token}"
   ]
  },
  {
   "cell_type": "code",
   "execution_count": 3,
   "metadata": {},
   "outputs": [
    {
     "name": "stdout",
     "output_type": "stream",
     "text": [
      "200\n",
      "[{'dimensions': [{'name': 'People', 'id': 'no'}, {'icon_id': '2', 'icon_type': 'traffic-source', 'name': 'Search engine traffic', 'id': 'organic'}], 'metrics': [2595.0]}, {'dimensions': [{'name': 'Robots', 'id': 'yes'}, {'icon_id': '2', 'icon_type': 'traffic-source', 'name': 'Search engine traffic', 'id': 'organic'}], 'metrics': [739.0]}]\n"
     ]
    }
   ],
   "source": [
    "# Делаем запрос response. Выполним его с помощью функции requests.get()\n",
    "response_1 = requests.get('https://api-metrika.yandex.net/stat/v1/data', params=params1, headers=headers)\n",
    "print (response_1.status_code)\n",
    "metrika_data = response_1.json()\n",
    "print(metrika_data['data'][0:2])"
   ]
  },
  {
   "cell_type": "code",
   "execution_count": 4,
   "metadata": {},
   "outputs": [],
   "source": [
    "# Напишем функцию, чтобы избавится от вложенных словарей\n",
    "def getMetrikaDataInListOfDicts(metrika_data):\n",
    "    list_of_dicts = []\n",
    "    dimensions_list = metrika_data['query']['dimensions']\n",
    "    metrics_list = metrika_data['query']['metrics']\n",
    "    for data_item in metrika_data['data']:\n",
    "        d = {}\n",
    "        for i,dimension in enumerate(data_item['dimensions']):\n",
    "            d[dimensions_list[i]] = dimension['name']\n",
    "        for i,metric in enumerate(data_item['metrics']):\n",
    "            d[metrics_list[i]] = metric\n",
    "        list_of_dicts.append(d)\n",
    "    return list_of_dicts"
   ]
  },
  {
   "cell_type": "code",
   "execution_count": 5,
   "metadata": {},
   "outputs": [
    {
     "name": "stdout",
     "output_type": "stream",
     "text": [
      "[{'ym:s:isRobot': 'People',\n",
      "  'ym:s:lastsignTrafficSource': 'Search engine traffic',\n",
      "  'ym:s:visits': 2595.0},\n",
      " {'ym:s:isRobot': 'Robots',\n",
      "  'ym:s:lastsignTrafficSource': 'Search engine traffic',\n",
      "  'ym:s:visits': 739.0},\n",
      " {'ym:s:isRobot': 'People',\n",
      "  'ym:s:lastsignTrafficSource': 'Direct traffic',\n",
      "  'ym:s:visits': 580.0},\n",
      " {'ym:s:isRobot': 'Robots',\n",
      "  'ym:s:lastsignTrafficSource': 'Direct traffic',\n",
      "  'ym:s:visits': 177.0},\n",
      " {'ym:s:isRobot': 'People',\n",
      "  'ym:s:lastsignTrafficSource': 'Link traffic',\n",
      "  'ym:s:visits': 95.0}]\n"
     ]
    }
   ],
   "source": [
    "# Преобразуем наши данные с помощью функции и запишем в переменную metrika_list_of_dicts\n",
    "metrika_list_of_dicts = getMetrikaDataInListOfDicts(metrika_data)\n",
    "pprint(metrika_list_of_dicts[0:3])"
   ]
  },
  {
   "cell_type": "code",
   "execution_count": 6,
   "metadata": {},
   "outputs": [
    {
     "name": "stdout",
     "output_type": "stream",
     "text": [
      "   ym:s:isRobot     ym:s:lastsignTrafficSource  ym:s:visits\n",
      "0        People          Search engine traffic       2595.0\n",
      "1        Robots          Search engine traffic        739.0\n",
      "2        People                 Direct traffic        580.0\n",
      "3        Robots                 Direct traffic        177.0\n",
      "4        People                   Link traffic         95.0\n",
      "5        People         Social network traffic         69.0\n",
      "6        Robots                   Link traffic         31.0\n",
      "7        Robots         Social network traffic         11.0\n",
      "8        People               Internal traffic          7.0\n",
      "9        People            Cached page traffic          5.0\n",
      "10       Robots               Internal traffic          3.0\n",
      "11       People  Recommendation system traffic          2.0\n",
      "12       Robots            Cached page traffic          1.0\n"
     ]
    }
   ],
   "source": [
    "# Создадим датафрейм\n",
    "metrika_df = pd.DataFrame(metrika_list_of_dicts)\n",
    "print(metrika_df)"
   ]
  },
  {
   "cell_type": "code",
   "execution_count": 7,
   "metadata": {},
   "outputs": [
    {
     "name": "stdout",
     "output_type": "stream",
     "text": [
      "<class 'pandas.core.frame.DataFrame'>\n",
      "RangeIndex: 13 entries, 0 to 12\n",
      "Data columns (total 3 columns):\n",
      " #   Column                      Non-Null Count  Dtype  \n",
      "---  ------                      --------------  -----  \n",
      " 0   ym:s:isRobot                13 non-null     object \n",
      " 1   ym:s:lastsignTrafficSource  13 non-null     object \n",
      " 2   ym:s:visits                 13 non-null     float64\n",
      "dtypes: float64(1), object(2)\n",
      "memory usage: 440.0+ bytes\n",
      "None\n"
     ]
    }
   ],
   "source": [
    "# Выведем информацию о датафрейме\n",
    "print(metrika_df.info())"
   ]
  },
  {
   "cell_type": "markdown",
   "metadata": {},
   "source": [
    "Датафрейм состоит из трех колонок, пропущенных значений нет."
   ]
  },
  {
   "cell_type": "code",
   "execution_count": 8,
   "metadata": {},
   "outputs": [
    {
     "name": "stdout",
     "output_type": "stream",
     "text": [
      "              Visits  Rate_%\n",
      "ym:s:isRobot                \n",
      "People        3353.0   77.71\n",
      "Robots         962.0   22.29\n"
     ]
    }
   ],
   "source": [
    "# Оценим общее количество ботов и их долю от всего трафика\n",
    "all_visits = pd.DataFrame(metrika_df.groupby('ym:s:isRobot')['ym:s:visits'].sum())\n",
    "all_visits['Rate_%'] = round(all_visits['ym:s:visits']/all_visits['ym:s:visits'].sum()*100, 2)\n",
    "all_visits.columns=['Visits','Rate_%']\n",
    "print(all_visits)"
   ]
  },
  {
   "cell_type": "markdown",
   "metadata": {},
   "source": [
    "Боты составляют 22.29 % от общего трафика (962 визита)"
   ]
  },
  {
   "cell_type": "markdown",
   "metadata": {},
   "source": [
    "Далее детально рассмотрим долю ботов в разрезе источников трафика и времени посещения"
   ]
  },
  {
   "cell_type": "code",
   "execution_count": 9,
   "metadata": {},
   "outputs": [],
   "source": [
    "# Задаем параметры\n",
    "params_2 = {'metrics': 'ym:s:visits,ym:s:robotPercentage',\n",
    "          'dimensions': 'ym:s:lastsignTrafficSource,ym:s:hour',  \n",
    "          'date1': '2020-09-01',  \n",
    "          'date2': '2020-09-30',     \n",
    "          'ids': 30177909,\n",
    "          'accuracy':'full',\n",
    "          'limit':100000}"
   ]
  },
  {
   "cell_type": "code",
   "execution_count": 10,
   "metadata": {},
   "outputs": [
    {
     "name": "stdout",
     "output_type": "stream",
     "text": [
      "200\n",
      "[{'dimensions': [{'icon_id': '2',\n",
      "                  'icon_type': 'traffic-source',\n",
      "                  'id': 'organic',\n",
      "                  'name': 'Search engine traffic'},\n",
      "                 {'id': '16', 'name': '16:00'}],\n",
      "  'metrics': [251.0, 24.70119522]},\n",
      " {'dimensions': [{'icon_id': '2',\n",
      "                  'icon_type': 'traffic-source',\n",
      "                  'id': 'organic',\n",
      "                  'name': 'Search engine traffic'},\n",
      "                 {'id': '15', 'name': '15:00'}],\n",
      "  'metrics': [240.0, 26.25]}]\n"
     ]
    }
   ],
   "source": [
    "# Делаем запрос response. Выполним его с помощью функции requests.get()\n",
    "response_2 = requests.get('https://api-metrika.yandex.net/stat/v1/data', params=params_2, headers=headers)\n",
    "print (response_2.status_code)\n",
    "metrika_data_2 = response_2.json()\n",
    "pprint(metrika_data_2['data'][0:2])"
   ]
  },
  {
   "cell_type": "code",
   "execution_count": 11,
   "metadata": {},
   "outputs": [
    {
     "name": "stdout",
     "output_type": "stream",
     "text": [
      "[{'ym:s:hour': '16:00',\n",
      "  'ym:s:lastsignTrafficSource': 'Search engine traffic',\n",
      "  'ym:s:robotPercentage': 24.70119522,\n",
      "  'ym:s:visits': 251.0},\n",
      " {'ym:s:hour': '15:00',\n",
      "  'ym:s:lastsignTrafficSource': 'Search engine traffic',\n",
      "  'ym:s:robotPercentage': 26.25,\n",
      "  'ym:s:visits': 240.0},\n",
      " {'ym:s:hour': '11:00',\n",
      "  'ym:s:lastsignTrafficSource': 'Search engine traffic',\n",
      "  'ym:s:robotPercentage': 25.87719298,\n",
      "  'ym:s:visits': 228.0}]\n"
     ]
    }
   ],
   "source": [
    "# Преобразуем наши данные с помощью  функции и запишем в переменную metrika_list_of_dicts_2\n",
    "metrika_list_of_dicts_2 = getMetrikaDataInListOfDicts(metrika_data_2)\n",
    "pprint(metrika_list_of_dicts_2[0:3])"
   ]
  },
  {
   "cell_type": "code",
   "execution_count": 12,
   "metadata": {},
   "outputs": [
    {
     "name": "stdout",
     "output_type": "stream",
     "text": [
      "        ym:s:lastsignTrafficSource ym:s:hour  ym:s:visits  \\\n",
      "0            Search engine traffic     16:00        251.0   \n",
      "1            Search engine traffic     15:00        240.0   \n",
      "2            Search engine traffic     11:00        228.0   \n",
      "3            Search engine traffic     13:00        227.0   \n",
      "4            Search engine traffic     12:00        225.0   \n",
      "..                             ...       ...          ...   \n",
      "102         Social network traffic     02:00          1.0   \n",
      "103         Social network traffic     04:00          1.0   \n",
      "104         Social network traffic     10:00          1.0   \n",
      "105  Recommendation system traffic     08:00          1.0   \n",
      "106  Recommendation system traffic     14:00          1.0   \n",
      "\n",
      "     ym:s:robotPercentage  \n",
      "0               24.701195  \n",
      "1               26.250000  \n",
      "2               25.877193  \n",
      "3               28.193833  \n",
      "4               24.888889  \n",
      "..                    ...  \n",
      "102              0.000000  \n",
      "103              0.000000  \n",
      "104              0.000000  \n",
      "105              0.000000  \n",
      "106              0.000000  \n",
      "\n",
      "[107 rows x 4 columns]\n"
     ]
    }
   ],
   "source": [
    "# Создаем датафрейм\n",
    "metrika_df_2 = pd.DataFrame(metrika_list_of_dicts_2)\n",
    "print(metrika_df_2)"
   ]
  },
  {
   "cell_type": "code",
   "execution_count": 13,
   "metadata": {},
   "outputs": [
    {
     "name": "stdout",
     "output_type": "stream",
     "text": [
      "<class 'pandas.core.frame.DataFrame'>\n",
      "RangeIndex: 107 entries, 0 to 106\n",
      "Data columns (total 4 columns):\n",
      " #   Column   Non-Null Count  Dtype  \n",
      "---  ------   --------------  -----  \n",
      " 0   Source   107 non-null    object \n",
      " 1   Hour     107 non-null    object \n",
      " 2   Visits   107 non-null    float64\n",
      " 3   BotRate  107 non-null    float64\n",
      "dtypes: float64(2), object(2)\n",
      "memory usage: 3.5+ KB\n",
      "None\n"
     ]
    }
   ],
   "source": [
    "# Переименуем столбцы и выведем информацию о датафрейме\n",
    "metrika_df_2.columns=['Source','Hour','Visits','BotRate']\n",
    "print(metrika_df_2.info())"
   ]
  },
  {
   "cell_type": "markdown",
   "metadata": {},
   "source": [
    "Датафрейм состоит из четырех столбцов, пропущенных значений нет\n"
   ]
  },
  {
   "cell_type": "code",
   "execution_count": 14,
   "metadata": {},
   "outputs": [
    {
     "name": "stdout",
     "output_type": "stream",
     "text": [
      "                       Source   Hour\n",
      "count                     107    107\n",
      "unique                      7     24\n",
      "top     Search engine traffic  08:00\n",
      "freq                       24      7\n",
      "*************************************\n",
      "           Visits     BotRate\n",
      "count  107.000000  107.000000\n",
      "mean    40.327103   19.817892\n",
      "std     65.694659   18.885087\n",
      "min      1.000000    0.000000\n",
      "25%      2.000000    0.000000\n",
      "50%      9.000000   19.565217\n",
      "75%     41.000000   26.063596\n",
      "max    251.000000  100.000000\n"
     ]
    }
   ],
   "source": [
    "# Выведем описательную статистику \n",
    "print(metrika_df_2.describe(include=['object']))\n",
    "print('*************************************')\n",
    "print(metrika_df_2.describe())\n"
   ]
  },
  {
   "cell_type": "markdown",
   "metadata": {},
   "source": [
    "Как видим из полученной статистики, чаще всего боты приходят из источника  Search engine traffic (частота 24, то есть каждый час). Самое частое время посещения ботами - 8 часов утра.\n",
    "Максимальное количество посещений ботами за один час составляет 251, а их максимальная доля от общего трафика достигает 100 %\n",
    "В среднем же на час приходится 40.33 посещения ботами, средний процент от общего трафика - 19.82"
   ]
  },
  {
   "cell_type": "code",
   "execution_count": 15,
   "metadata": {},
   "outputs": [
    {
     "name": "stdout",
     "output_type": "stream",
     "text": [
      "Источники в зависимости от частоты визитов ботов: \n",
      "Search engine traffic            24\n",
      "Direct traffic                   24\n",
      "Link traffic                     22\n",
      "Social network traffic           22\n",
      "Internal traffic                  8\n",
      "Cached page traffic               5\n",
      "Recommendation system traffic     2\n",
      "Name: Source, dtype: int64\n",
      "*************************************\n",
      "Источники в зависимости от средней доли ботов от общего количества визитов\n",
      "Source\n",
      "Link traffic                     27.249606\n",
      "Internal traffic                 25.000000\n",
      "Direct traffic                   23.835393\n",
      "Search engine traffic            18.963520\n",
      "Social network traffic           11.084055\n",
      "Cached page traffic              10.000000\n",
      "Recommendation system traffic     0.000000\n",
      "Name: BotRate, dtype: float64\n"
     ]
    }
   ],
   "source": [
    "# Определим источники, из  которых чаще всего приходят боты\n",
    "print('Источники в зависимости от частоты визитов ботов: ')\n",
    "print(metrika_df_2['Source'].value_counts())\n",
    "print('*************************************')\n",
    "print('Источники в зависимости от средней доли ботов от общего количества визитов')\n",
    "print(metrika_df_2.groupby('Source')['BotRate'].mean().sort_values(ascending=False))"
   ]
  },
  {
   "cell_type": "code",
   "execution_count": 16,
   "metadata": {},
   "outputs": [
    {
     "name": "stdout",
     "output_type": "stream",
     "text": [
      "Максимальные показатели доли ботов в зависимости от источника\n",
      "Source\n",
      "Internal traffic                 100.000000\n",
      "Link traffic                     100.000000\n",
      "Cached page traffic               50.000000\n",
      "Social network traffic            50.000000\n",
      "Direct traffic                    40.625000\n",
      "Search engine traffic             28.193833\n",
      "Recommendation system traffic      0.000000\n",
      "Name: BotRate, dtype: float64\n"
     ]
    }
   ],
   "source": [
    "print('Максимальные показатели доли ботов в зависимости от источника')\n",
    "print(metrika_df_2.groupby('Source')['BotRate'].max().sort_values(ascending=False))"
   ]
  },
  {
   "cell_type": "markdown",
   "metadata": {},
   "source": [
    "Чаще всего боты приходят из источников Search engine traffic, Direct traffic, Link traffic, Social network traffic\n",
    "Наибольшее среднее процентное отношение ботов к общему количеству визитов у источников Link traffic, Internal traffic, Direct traffic.\n",
    "Для определения источников, из которых приходит больше всего ботов, было взято среднее значение, так как оценка по максимальному процентному отношению была бы менее информативной. Например, 100 % ботов пришло из источника Internal traffic, но всего визитов ботов из этого источника было лишь 3."
   ]
  },
  {
   "cell_type": "code",
   "execution_count": 17,
   "metadata": {},
   "outputs": [
    {
     "name": "stdout",
     "output_type": "stream",
     "text": [
      "       Source_count  BotRate_mean\n",
      "Hour                             \n",
      "03:00             3     44.312169\n",
      "16:00             5     43.035477\n",
      "22:00             4     34.579012\n",
      "13:00             4     27.918994\n",
      "09:00             5     26.106668\n",
      "12:00             6     25.165701\n",
      "10:00             4     25.071268\n",
      "23:00             4     24.107407\n",
      "06:00             4     21.524064\n",
      "15:00             4     18.554370\n",
      "01:00             5     18.018868\n",
      "07:00             4     17.371297\n",
      "20:00             4     17.165337\n",
      "18:00             4     16.560885\n",
      "04:00             3     15.458937\n",
      "08:00             7     14.971301\n",
      "11:00             6     14.556498\n",
      "14:00             6     14.552707\n",
      "21:00             4     13.624545\n",
      "00:00             3     12.222222\n",
      "19:00             4     12.150621\n",
      "17:00             6     11.565452\n",
      "05:00             3      8.000000\n",
      "02:00             5      6.075388\n"
     ]
    }
   ],
   "source": [
    "# Создадим объединенный датафрейм из двух (количества источников, из которых приходят боты, по часам (count_df) и средней доли ботов по часам (rate_df))\n",
    "count_df = pd.DataFrame(metrika_df_2.groupby('Hour')['BotRate'].count())\n",
    "rate_df =  pd.DataFrame(metrika_df_2.groupby('Hour')['BotRate'].mean())\n",
    "total_df = count_df.merge(rate_df, on = 'Hour').sort_values('BotRate_y', ascending=False)\n",
    "total_df.columns = ['Source_count', 'BotRate_mean']\n",
    "print(total_df)"
   ]
  },
  {
   "cell_type": "markdown",
   "metadata": {},
   "source": [
    "Чаще всего (из всех 7 источников трафика) боты приходят в 8 часов утра. Далее по частоте (6 из 7 источников) боты приходят в 11, 12, 14 и 17 часов. Наименьшая частота наблюдается в полночь, а также в период с 3 до 5 утра.\n",
    "Наибольший средний показатель доли ботов от общего количества посещений приходится на 3 часа утра и 16 часов дня.\n",
    "Также большое количество (в процентном отношении) приходит в первой половине дня и поздно вечером. "
   ]
  },
  {
   "cell_type": "markdown",
   "metadata": {},
   "source": [
    "Рассмотрим показатели частоты посещений и доли ботов в разрезе времени суток."
   ]
  },
  {
   "cell_type": "code",
   "execution_count": 18,
   "metadata": {},
   "outputs": [
    {
     "name": "stdout",
     "output_type": "stream",
     "text": [
      "0      16\n",
      "1      15\n",
      "2      11\n",
      "3      13\n",
      "4      12\n",
      "       ..\n",
      "102     2\n",
      "103     4\n",
      "104    10\n",
      "105     8\n",
      "106    14\n",
      "Name: Hour, Length: 107, dtype: int64\n"
     ]
    }
   ],
   "source": [
    "# Преобразуем столбец с часами посещения в Тип datetime и выделим часы\n",
    "metrika_df_2['Hour'] = pd.to_datetime(metrika_df_2['Hour'])\n",
    "metrika_df_2['Hour'] = metrika_df_2['Hour'].dt.hour\n",
    "print(metrika_df_2['Hour'])"
   ]
  },
  {
   "cell_type": "code",
   "execution_count": 19,
   "metadata": {},
   "outputs": [],
   "source": [
    "# Напишем функцию для определения времени суток\n",
    "def get_time_of_day(time):\n",
    "    if 0 <= time <= 6:\n",
    "        return 'night'\n",
    "    elif 6 < time <= 12:\n",
    "        return 'morning'\n",
    "    elif 12 < time <= 18:\n",
    "        return 'day'\n",
    "    elif 18 < time <= 23:\n",
    "        return 'evening'\n",
    "    else:\n",
    "        return 'else'\n",
    "metrika_df_2['time_of_day'] = metrika_df_2['Hour'].apply(get_time_of_day)"
   ]
  },
  {
   "cell_type": "code",
   "execution_count": 20,
   "metadata": {},
   "outputs": [
    {
     "name": "stdout",
     "output_type": "stream",
     "text": [
      "                  Source  Hour  Visits    BotRate time_of_day\n",
      "0  Search engine traffic    16   251.0  24.701195         day\n",
      "1  Search engine traffic    15   240.0  26.250000         day\n",
      "2  Search engine traffic    11   228.0  25.877193     morning\n",
      "3  Search engine traffic    13   227.0  28.193833         day\n",
      "4  Search engine traffic    12   225.0  24.888889     morning\n"
     ]
    }
   ],
   "source": [
    "print(metrika_df_2.head())"
   ]
  },
  {
   "cell_type": "code",
   "execution_count": 24,
   "metadata": {},
   "outputs": [
    {
     "name": "stdout",
     "output_type": "stream",
     "text": [
      "Частота посещения сайта ботами в зависимости от времени суток:\n",
      "time_of_day\n",
      "morning    32\n",
      "day        29\n",
      "night      26\n",
      "evening    20\n",
      "Name: Source, dtype: int64\n",
      "***********************\n",
      "Средняя доля ботов от всех визитов в зависимости от времени суток, %:\n",
      "time_of_day\n",
      "day        21.52\n",
      "evening    20.33\n",
      "morning    20.11\n",
      "night      17.17\n",
      "Name: BotRate, dtype: float64\n"
     ]
    }
   ],
   "source": [
    "print('Частота посещения сайта ботами в зависимости от времени суток:')\n",
    "print(metrika_df_2.groupby('time_of_day')['Source'].count().sort_values(ascending=False))\n",
    "print('***********************')\n",
    "print('Средняя доля ботов от всех визитов в зависимости от времени суток, %:')\n",
    "print(round(metrika_df_2.groupby('time_of_day')['BotRate'].mean(), 2))"
   ]
  },
  {
   "cell_type": "markdown",
   "metadata": {},
   "source": [
    "Чаще всего боты приходят на сайт утром и днем. Меньше всего - вечером, при этом средняя доля ботов у вечерних посещений на втором месте.\n",
    "У дневных посещений и утренних средняя доля ботов примерно одинаковая. Ночью самый низкий средний показатель доли ботов в общем трафике."
   ]
  },
  {
   "cell_type": "markdown",
   "metadata": {},
   "source": [
    "# Выводы:\n",
    "На основании проведенного анализа можно сделать следующие выводы:\n",
    "- боты составляют 22.29 % от общего трафика (962 визита);\n",
    "- чаще всего боты приходят из источника  Search engine traffic и Direct traffic (частота 24, то есть каждый час);\n",
    "- самое частое время посещения ботами - 8 часов утра;\n",
    "- чаще всего боты приходят в утреннее время (32 наблюдения);\n",
    "- средняя доля ботов от общего трафика выше у дневных посещений (21.52 %)"
   ]
  }
 ],
 "metadata": {
  "interpreter": {
   "hash": "4e052d4e0222e7fe77152d0a9dc2d2af05426cb5296a6b56fda7b6c53ad5778b"
  },
  "kernelspec": {
   "display_name": "Python 3.9.7 64-bit",
   "language": "python",
   "name": "python3"
  },
  "language_info": {
   "codemirror_mode": {
    "name": "ipython",
    "version": 3
   },
   "file_extension": ".py",
   "mimetype": "text/x-python",
   "name": "python",
   "nbconvert_exporter": "python",
   "pygments_lexer": "ipython3",
   "version": "3.9.7"
  },
  "orig_nbformat": 4
 },
 "nbformat": 4,
 "nbformat_minor": 2
}
